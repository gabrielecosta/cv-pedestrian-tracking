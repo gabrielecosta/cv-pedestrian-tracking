{
  "nbformat": 4,
  "nbformat_minor": 0,
  "metadata": {
    "colab": {
      "provenance": []
    },
    "kernelspec": {
      "name": "python3",
      "display_name": "Python 3"
    },
    "language_info": {
      "name": "python"
    }
  },
  "cells": [
    {
      "cell_type": "markdown",
      "source": [],
      "metadata": {
        "id": "1yOq9ajLlKMA"
      }
    },
    {
      "cell_type": "code",
      "source": [
        "from google.colab import drive\n",
        "drive.mount('/content/drive')"
      ],
      "metadata": {
        "colab": {
          "base_uri": "https://localhost:8080/"
        },
        "id": "4OwcGehz_97e",
        "outputId": "d0adca5b-bd94-4f4a-d37f-102ebdf6c28f"
      },
      "execution_count": 1,
      "outputs": [
        {
          "output_type": "stream",
          "name": "stdout",
          "text": [
            "Mounted at /content/drive\n"
          ]
        }
      ]
    },
    {
      "cell_type": "markdown",
      "source": [
        "Caricare il path del file delle detection con la specifica soglia di confidence (0.6 o 0.7), quindi importarlo"
      ],
      "metadata": {
        "id": "E_K2TtvNqvwe"
      }
    },
    {
      "cell_type": "code",
      "source": [
        "# upload\n",
        "path_data = '/content/MOT17-05-DPM-DETR06.txt' # path di esempio, sto caricando nel content\n",
        "data_preloaded = []\n",
        "with open(path_data, 'r') as f:\n",
        "    for row in f:\n",
        "        frame, bboxes, confidences = row.split(',')\n",
        "        frame = int(frame)\n",
        "        x1, x2, y1, y2 = bboxes.strip('[] ').split()\n",
        "        x1 = float(x1)\n",
        "        x2 = float(x2)\n",
        "        y1 = float(y1)\n",
        "        y2 = float(y2)\n",
        "        conf = float(confidences.strip())\n",
        "        detection_frame = [frame,[x1,x2,y1,y2], conf]\n",
        "        data_preloaded.append(detection_frame)"
      ],
      "metadata": {
        "id": "0DHxFq57eQA0"
      },
      "execution_count": 2,
      "outputs": []
    },
    {
      "cell_type": "code",
      "source": [
        "# data_preloaded"
      ],
      "metadata": {
        "id": "ejC42ZV7gA34"
      },
      "execution_count": null,
      "outputs": []
    },
    {
      "cell_type": "markdown",
      "source": [
        "Adesso devo adattarli alle mie detection, quindi mi creo un dizionario di detection dove la chiave corrisponde al frame e il valore invece la lista di detection+confidences per quel determinato frame"
      ],
      "metadata": {
        "id": "OyNG6kXVrkTR"
      }
    },
    {
      "cell_type": "code",
      "source": [
        "final_detection = {}\n",
        "for data in data_preloaded:\n",
        "    if data[0] not in final_detection.keys():\n",
        "        final_detection[data[0]] = []\n",
        "    final_detection[data[0]].append([data[1], data[2]])"
      ],
      "metadata": {
        "id": "tPCP2MnPgLGK"
      },
      "execution_count": 3,
      "outputs": []
    },
    {
      "cell_type": "code",
      "source": [
        "len(final_detection)"
      ],
      "metadata": {
        "id": "IDq39mBkgvXR",
        "colab": {
          "base_uri": "https://localhost:8080/"
        },
        "outputId": "51085da5-389f-4b11-8ce8-177b31baa567"
      },
      "execution_count": 4,
      "outputs": [
        {
          "output_type": "execute_result",
          "data": {
            "text/plain": [
              "837"
            ]
          },
          "metadata": {},
          "execution_count": 4
        }
      ]
    },
    {
      "cell_type": "markdown",
      "source": [
        "Adesso quindi se volessi estrarre le detection del primo frame:"
      ],
      "metadata": {
        "id": "yfiyp_3RrwyO"
      }
    },
    {
      "cell_type": "code",
      "source": [
        "detections_frame_1 = final_detection[1]\n",
        "detections_frame_1"
      ],
      "metadata": {
        "id": "XhcmW99lg2jb",
        "colab": {
          "base_uri": "https://localhost:8080/"
        },
        "outputId": "ca02e193-f9f9-42a4-dc7e-53bed0f927d2"
      },
      "execution_count": 7,
      "outputs": [
        {
          "output_type": "execute_result",
          "data": {
            "text/plain": [
              "[[[308.0633, 214.77393, 318.02454, 242.05516], 0.6666003465652466],\n",
              " [[308.2305, 213.24954, 318.4695, 241.51703], 0.7635806798934937],\n",
              " [[271.06854, 202.00267, 285.7063, 243.01091], 0.8880743980407715],\n",
              " [[266.40875, 202.52731, 282.27567, 244.7044], 0.9473226070404053],\n",
              " [[119.37081, 155.9093, 199.8064, 328.23328], 0.9997299313545227],\n",
              " [[19.042439, 146.2177, 93.47551, 338.71338], 0.9987555742263794],\n",
              " [[57.858868, 154.56133, 92.59082, 316.49045], 0.8556430339813232],\n",
              " [[250.73053, 201.42151, 263.4828, 247.09451], 0.9794502258300781]]"
            ]
          },
          "metadata": {},
          "execution_count": 7
        }
      ]
    },
    {
      "cell_type": "code",
      "source": [
        "for detection, confidence in final_detection[1]:\n",
        "    print(f'Detection: {detection}; Confidence: {confidence}')"
      ],
      "metadata": {
        "colab": {
          "base_uri": "https://localhost:8080/"
        },
        "id": "HLYjsNkmr3c4",
        "outputId": "7f68512b-7477-40fb-bda3-721e917d40a7"
      },
      "execution_count": 12,
      "outputs": [
        {
          "output_type": "stream",
          "name": "stdout",
          "text": [
            "Detection: [308.0633, 214.77393, 318.02454, 242.05516]; Confidence: 0.6666003465652466\n",
            "Detection: [308.2305, 213.24954, 318.4695, 241.51703]; Confidence: 0.7635806798934937\n",
            "Detection: [271.06854, 202.00267, 285.7063, 243.01091]; Confidence: 0.8880743980407715\n",
            "Detection: [266.40875, 202.52731, 282.27567, 244.7044]; Confidence: 0.9473226070404053\n",
            "Detection: [119.37081, 155.9093, 199.8064, 328.23328]; Confidence: 0.9997299313545227\n",
            "Detection: [19.042439, 146.2177, 93.47551, 338.71338]; Confidence: 0.9987555742263794\n",
            "Detection: [57.858868, 154.56133, 92.59082, 316.49045]; Confidence: 0.8556430339813232\n",
            "Detection: [250.73053, 201.42151, 263.4828, 247.09451]; Confidence: 0.9794502258300781\n"
          ]
        }
      ]
    },
    {
      "cell_type": "markdown",
      "source": [
        "Poi quindi nella mia funzione:"
      ],
      "metadata": {
        "id": "fWkktoG1sElk"
      }
    },
    {
      "cell_type": "code",
      "source": [
        "def process_image_folder_preloaded(detections_loaded, folder_path, frame_size=(640, 360), detection_interval=1, frame_limit_flag = False, limit=5):\n",
        "    tracker = Tracker()\n",
        "    frame_files = sorted([os.path.join(folder_path, f) for f in os.listdir(folder_path) if f.endswith(('.png', '.jpg', '.jpeg'))])\n",
        "    frame_count = 0\n",
        "\n",
        "    detections_frame = []\n",
        "\n",
        "    print('Fine preload')\n",
        "    for frame_file in frame_files:\n",
        "        if frame_limit_flag and frame_count > limit:\n",
        "            break\n",
        "        frame = Image.open(frame_file)\n",
        "\n",
        "        if frame_count % detection_interval == 0:\n",
        "            # confidences, detections = detect_pedestrians(im=frame, model=model)\n",
        "            detections_frame = detections_loaded[frame_count]\n",
        "        detections = []\n",
        "        confidences = []\n",
        "        for detection, confidence in detections_frame:\n",
        "            detections.append(detection)\n",
        "            confidences.append(confidence)\n",
        "\n",
        "        # quindi da qua in poi non cambia più nulla rispetto a prima\n",
        "        tracker.update_tracker(confidences, detections, frame, vgg16, theshold_det_track = 0.4, theshold_reid=0.4)\n",
        "\n",
        "        actual_detections = [] # solo per print\n",
        "\n",
        "        for track in tracker.trackers:\n",
        "            if track['lost'] == 0:\n",
        "                x1, y1, x2, y2 = map(int, track['bbox'])\n",
        "                x = x1\n",
        "                y = y1\n",
        "                w = x2-x1\n",
        "                h = y2-y1\n",
        "                conf = track['conf']\n",
        "                # poi format_detection deve essere stampato in un file\n",
        "                format_detectetion = [frame_count, track['id'], x,y,w,h, track['conf'],-1,-1,-1]\n",
        "                print(format_detectetion)\n",
        "                actual_detections.append(format_detectetion) # solo per printing\n",
        "                detections_frame.append(format_detectetion)\n",
        "        print(f'Frame: {frame_count}')\n",
        "        # plot_image_w_detections(frame, actual_detections)\n",
        "        frame_count += 1\n",
        "    return detections_frame"
      ],
      "metadata": {
        "id": "YrZ-MlO3sLhz"
      },
      "execution_count": 13,
      "outputs": []
    }
  ]
}