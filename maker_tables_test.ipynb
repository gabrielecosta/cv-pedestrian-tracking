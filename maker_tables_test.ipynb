{
 "cells": [
  {
   "cell_type": "markdown",
   "metadata": {},
   "source": [
    "# Metriche di test"
   ]
  },
  {
   "cell_type": "code",
   "execution_count": 1,
   "metadata": {},
   "outputs": [],
   "source": [
    "import pandas as pd\n",
    "import numpy as np"
   ]
  },
  {
   "cell_type": "code",
   "execution_count": 2,
   "metadata": {},
   "outputs": [],
   "source": [
    "path = 'Tabelle/'\n",
    "test = path + 'test/'"
   ]
  },
  {
   "cell_type": "code",
   "execution_count": 3,
   "metadata": {},
   "outputs": [],
   "source": [
    "hota_metrics_col = ['seq', 'HOTA___AUC', 'DetA___AUC', 'AssA___AUC', 'DetRe___AUC', 'DetPr___AUC', 'AssRe___AUC', 'AssPr___AUC', 'LocA___AUC', 'OWTA___AUC', 'HOTA(0)', 'LocA(0)', 'HOTALocA(0)']\n",
    "clear_metrics_col = ['seq', 'MOTA', 'MOTP', 'MODA', 'CLR_Re', 'CLR_Pr', 'MTR', 'PTR', 'MLR', 'sMOTA', 'CLR_TP', 'CLR_FN', 'CLR_FP', 'IDSW', 'MT', 'PT', 'ML', 'Frag']\n",
    "count_col = ['seq', 'Dets', 'GT_Dets', 'IDs', 'GT_IDs']"
   ]
  },
  {
   "cell_type": "code",
   "execution_count": 4,
   "metadata": {},
   "outputs": [],
   "source": [
    "def print_hota_metrics(data_path):\n",
    "    data = pd.read_csv(data_path, header=0)\n",
    "    hota_metrics = data[hota_metrics_col]\n",
    "    hota_metrics.loc[:,'seq'] = hota_metrics['seq'].apply(lambda txt: txt.replace('-DPM', ''))\n",
    "    hota_metrics.iloc[:,1:] *= 100\n",
    "    return hota_metrics"
   ]
  },
  {
   "cell_type": "code",
   "execution_count": 5,
   "metadata": {},
   "outputs": [],
   "source": [
    "def print_clear_metrics(data_path):\n",
    "    data = pd.read_csv(data_path, header=0)\n",
    "    clear_metrics = data[clear_metrics_col]\n",
    "    clear_metrics.loc[:,'seq'] = clear_metrics['seq'].apply(lambda txt: txt.replace('-DPM', ''))\n",
    "    clear_metrics.iloc[:,1:10] *= 100\n",
    "    return clear_metrics"
   ]
  },
  {
   "cell_type": "code",
   "execution_count": 6,
   "metadata": {},
   "outputs": [],
   "source": [
    "def print_count_metrics(data_path):\n",
    "    data = pd.read_csv(data_path, header=0)\n",
    "    count_metrics = data[count_col]\n",
    "    count_metrics.loc[:,'seq'] = count_metrics['seq'].apply(lambda txt: txt.replace('-DPM', ''))\n",
    "    return count_metrics"
   ]
  },
  {
   "cell_type": "markdown",
   "metadata": {},
   "source": [
    "I migliori valori sono i seguenti:\n",
    "- Confidence: 0.7\n",
    "- Soglia matching: 0.5\n",
    "- Soglia reidentificazione: 0.5"
   ]
  },
  {
   "cell_type": "code",
   "execution_count": 7,
   "metadata": {},
   "outputs": [],
   "source": [
    "data_path = test + 'pedestrian_detailed.csv'"
   ]
  },
  {
   "cell_type": "code",
   "execution_count": 8,
   "metadata": {},
   "outputs": [
    {
     "data": {
      "text/html": [
       "<div>\n",
       "<style scoped>\n",
       "    .dataframe tbody tr th:only-of-type {\n",
       "        vertical-align: middle;\n",
       "    }\n",
       "\n",
       "    .dataframe tbody tr th {\n",
       "        vertical-align: top;\n",
       "    }\n",
       "\n",
       "    .dataframe thead th {\n",
       "        text-align: right;\n",
       "    }\n",
       "</style>\n",
       "<table border=\"1\" class=\"dataframe\">\n",
       "  <thead>\n",
       "    <tr style=\"text-align: right;\">\n",
       "      <th></th>\n",
       "      <th>seq</th>\n",
       "      <th>HOTA___AUC</th>\n",
       "      <th>DetA___AUC</th>\n",
       "      <th>AssA___AUC</th>\n",
       "      <th>DetRe___AUC</th>\n",
       "      <th>DetPr___AUC</th>\n",
       "      <th>AssRe___AUC</th>\n",
       "      <th>AssPr___AUC</th>\n",
       "      <th>LocA___AUC</th>\n",
       "      <th>OWTA___AUC</th>\n",
       "      <th>HOTA(0)</th>\n",
       "      <th>LocA(0)</th>\n",
       "      <th>HOTALocA(0)</th>\n",
       "    </tr>\n",
       "  </thead>\n",
       "  <tbody>\n",
       "    <tr>\n",
       "      <th>0</th>\n",
       "      <td>MOT17-04</td>\n",
       "      <td>28.846656</td>\n",
       "      <td>30.420216</td>\n",
       "      <td>27.767104</td>\n",
       "      <td>32.521750</td>\n",
       "      <td>70.719563</td>\n",
       "      <td>29.372178</td>\n",
       "      <td>71.449601</td>\n",
       "      <td>79.374273</td>\n",
       "      <td>29.929694</td>\n",
       "      <td>38.003742</td>\n",
       "      <td>72.531333</td>\n",
       "      <td>27.564621</td>\n",
       "    </tr>\n",
       "    <tr>\n",
       "      <th>1</th>\n",
       "      <td>MOT17-13</td>\n",
       "      <td>16.840114</td>\n",
       "      <td>23.658325</td>\n",
       "      <td>13.067781</td>\n",
       "      <td>27.755676</td>\n",
       "      <td>49.927623</td>\n",
       "      <td>15.147166</td>\n",
       "      <td>39.955325</td>\n",
       "      <td>72.746345</td>\n",
       "      <td>18.432906</td>\n",
       "      <td>24.984915</td>\n",
       "      <td>58.821172</td>\n",
       "      <td>14.696420</td>\n",
       "    </tr>\n",
       "    <tr>\n",
       "      <th>2</th>\n",
       "      <td>COMBINED</td>\n",
       "      <td>26.721655</td>\n",
       "      <td>28.926519</td>\n",
       "      <td>25.304330</td>\n",
       "      <td>31.584460</td>\n",
       "      <td>65.971647</td>\n",
       "      <td>27.010160</td>\n",
       "      <td>66.212189</td>\n",
       "      <td>78.136996</td>\n",
       "      <td>28.057832</td>\n",
       "      <td>35.698164</td>\n",
       "      <td>69.703816</td>\n",
       "      <td>24.882983</td>\n",
       "    </tr>\n",
       "  </tbody>\n",
       "</table>\n",
       "</div>"
      ],
      "text/plain": [
       "        seq  HOTA___AUC  DetA___AUC  AssA___AUC  DetRe___AUC  DetPr___AUC  \\\n",
       "0  MOT17-04   28.846656   30.420216   27.767104    32.521750    70.719563   \n",
       "1  MOT17-13   16.840114   23.658325   13.067781    27.755676    49.927623   \n",
       "2  COMBINED   26.721655   28.926519   25.304330    31.584460    65.971647   \n",
       "\n",
       "   AssRe___AUC  AssPr___AUC  LocA___AUC  OWTA___AUC    HOTA(0)    LocA(0)  \\\n",
       "0    29.372178    71.449601   79.374273   29.929694  38.003742  72.531333   \n",
       "1    15.147166    39.955325   72.746345   18.432906  24.984915  58.821172   \n",
       "2    27.010160    66.212189   78.136996   28.057832  35.698164  69.703816   \n",
       "\n",
       "   HOTALocA(0)  \n",
       "0    27.564621  \n",
       "1    14.696420  \n",
       "2    24.882983  "
      ]
     },
     "execution_count": 8,
     "metadata": {},
     "output_type": "execute_result"
    }
   ],
   "source": [
    "print_hota_metrics(data_path)"
   ]
  },
  {
   "cell_type": "code",
   "execution_count": 9,
   "metadata": {},
   "outputs": [
    {
     "data": {
      "text/html": [
       "<div>\n",
       "<style scoped>\n",
       "    .dataframe tbody tr th:only-of-type {\n",
       "        vertical-align: middle;\n",
       "    }\n",
       "\n",
       "    .dataframe tbody tr th {\n",
       "        vertical-align: top;\n",
       "    }\n",
       "\n",
       "    .dataframe thead th {\n",
       "        text-align: right;\n",
       "    }\n",
       "</style>\n",
       "<table border=\"1\" class=\"dataframe\">\n",
       "  <thead>\n",
       "    <tr style=\"text-align: right;\">\n",
       "      <th></th>\n",
       "      <th>seq</th>\n",
       "      <th>MOTA</th>\n",
       "      <th>MOTP</th>\n",
       "      <th>MODA</th>\n",
       "      <th>CLR_Re</th>\n",
       "      <th>CLR_Pr</th>\n",
       "      <th>MTR</th>\n",
       "      <th>PTR</th>\n",
       "      <th>MLR</th>\n",
       "      <th>sMOTA</th>\n",
       "      <th>CLR_TP</th>\n",
       "      <th>CLR_FN</th>\n",
       "      <th>CLR_FP</th>\n",
       "      <th>IDSW</th>\n",
       "      <th>MT</th>\n",
       "      <th>PT</th>\n",
       "      <th>ML</th>\n",
       "      <th>Frag</th>\n",
       "    </tr>\n",
       "  </thead>\n",
       "  <tbody>\n",
       "    <tr>\n",
       "      <th>0</th>\n",
       "      <td>MOT17-04</td>\n",
       "      <td>33.250626</td>\n",
       "      <td>76.353201</td>\n",
       "      <td>34.266249</td>\n",
       "      <td>40.126585</td>\n",
       "      <td>87.256516</td>\n",
       "      <td>7.228916</td>\n",
       "      <td>54.216867</td>\n",
       "      <td>38.554217</td>\n",
       "      <td>23.761973</td>\n",
       "      <td>19083</td>\n",
       "      <td>28474</td>\n",
       "      <td>2787</td>\n",
       "      <td>483</td>\n",
       "      <td>6</td>\n",
       "      <td>45</td>\n",
       "      <td>32</td>\n",
       "      <td>2171.0</td>\n",
       "    </tr>\n",
       "    <tr>\n",
       "      <th>1</th>\n",
       "      <td>MOT17-13</td>\n",
       "      <td>5.394262</td>\n",
       "      <td>68.975416</td>\n",
       "      <td>13.142072</td>\n",
       "      <td>34.366947</td>\n",
       "      <td>61.820148</td>\n",
       "      <td>5.454545</td>\n",
       "      <td>54.545455</td>\n",
       "      <td>40.000000</td>\n",
       "      <td>-5.267940</td>\n",
       "      <td>4001</td>\n",
       "      <td>7641</td>\n",
       "      <td>2471</td>\n",
       "      <td>902</td>\n",
       "      <td>6</td>\n",
       "      <td>60</td>\n",
       "      <td>44</td>\n",
       "      <td>1027.0</td>\n",
       "    </tr>\n",
       "    <tr>\n",
       "      <th>2</th>\n",
       "      <td>COMBINED</td>\n",
       "      <td>27.772429</td>\n",
       "      <td>75.074458</td>\n",
       "      <td>30.111995</td>\n",
       "      <td>38.993902</td>\n",
       "      <td>81.448028</td>\n",
       "      <td>6.217617</td>\n",
       "      <td>54.404145</td>\n",
       "      <td>39.378238</td>\n",
       "      <td>18.052987</td>\n",
       "      <td>23084</td>\n",
       "      <td>36115</td>\n",
       "      <td>5258</td>\n",
       "      <td>1385</td>\n",
       "      <td>12</td>\n",
       "      <td>105</td>\n",
       "      <td>76</td>\n",
       "      <td>3198.0</td>\n",
       "    </tr>\n",
       "  </tbody>\n",
       "</table>\n",
       "</div>"
      ],
      "text/plain": [
       "        seq       MOTA       MOTP       MODA     CLR_Re     CLR_Pr       MTR  \\\n",
       "0  MOT17-04  33.250626  76.353201  34.266249  40.126585  87.256516  7.228916   \n",
       "1  MOT17-13   5.394262  68.975416  13.142072  34.366947  61.820148  5.454545   \n",
       "2  COMBINED  27.772429  75.074458  30.111995  38.993902  81.448028  6.217617   \n",
       "\n",
       "         PTR        MLR      sMOTA  CLR_TP  CLR_FN  CLR_FP  IDSW  MT   PT  ML  \\\n",
       "0  54.216867  38.554217  23.761973   19083   28474    2787   483   6   45  32   \n",
       "1  54.545455  40.000000  -5.267940    4001    7641    2471   902   6   60  44   \n",
       "2  54.404145  39.378238  18.052987   23084   36115    5258  1385  12  105  76   \n",
       "\n",
       "     Frag  \n",
       "0  2171.0  \n",
       "1  1027.0  \n",
       "2  3198.0  "
      ]
     },
     "execution_count": 9,
     "metadata": {},
     "output_type": "execute_result"
    }
   ],
   "source": [
    "print_clear_metrics(data_path)"
   ]
  },
  {
   "cell_type": "code",
   "execution_count": 10,
   "metadata": {},
   "outputs": [
    {
     "data": {
      "text/html": [
       "<div>\n",
       "<style scoped>\n",
       "    .dataframe tbody tr th:only-of-type {\n",
       "        vertical-align: middle;\n",
       "    }\n",
       "\n",
       "    .dataframe tbody tr th {\n",
       "        vertical-align: top;\n",
       "    }\n",
       "\n",
       "    .dataframe thead th {\n",
       "        text-align: right;\n",
       "    }\n",
       "</style>\n",
       "<table border=\"1\" class=\"dataframe\">\n",
       "  <thead>\n",
       "    <tr style=\"text-align: right;\">\n",
       "      <th></th>\n",
       "      <th>seq</th>\n",
       "      <th>Dets</th>\n",
       "      <th>GT_Dets</th>\n",
       "      <th>IDs</th>\n",
       "      <th>GT_IDs</th>\n",
       "    </tr>\n",
       "  </thead>\n",
       "  <tbody>\n",
       "    <tr>\n",
       "      <th>0</th>\n",
       "      <td>MOT17-04</td>\n",
       "      <td>21870</td>\n",
       "      <td>47557</td>\n",
       "      <td>260</td>\n",
       "      <td>83</td>\n",
       "    </tr>\n",
       "    <tr>\n",
       "      <th>1</th>\n",
       "      <td>MOT17-13</td>\n",
       "      <td>6472</td>\n",
       "      <td>11642</td>\n",
       "      <td>379</td>\n",
       "      <td>110</td>\n",
       "    </tr>\n",
       "    <tr>\n",
       "      <th>2</th>\n",
       "      <td>COMBINED</td>\n",
       "      <td>28342</td>\n",
       "      <td>59199</td>\n",
       "      <td>639</td>\n",
       "      <td>193</td>\n",
       "    </tr>\n",
       "  </tbody>\n",
       "</table>\n",
       "</div>"
      ],
      "text/plain": [
       "        seq   Dets  GT_Dets  IDs  GT_IDs\n",
       "0  MOT17-04  21870    47557  260      83\n",
       "1  MOT17-13   6472    11642  379     110\n",
       "2  COMBINED  28342    59199  639     193"
      ]
     },
     "execution_count": 10,
     "metadata": {},
     "output_type": "execute_result"
    }
   ],
   "source": [
    "print_count_metrics(data_path)"
   ]
  },
  {
   "attachments": {
    "pedestrian_plot.png": {
     "image/png": "[encoded data removed]"
    }
   },
   "cell_type": "markdown",
   "metadata": {},
   "source": [
    "![pedestrian_plot.png](attachment:pedestrian_plot.png)"
   ]
  }
 ],
 "metadata": {
  "kernelspec": {
   "display_name": "Python 3",
   "language": "python",
   "name": "python3"
  },
  "language_info": {
   "codemirror_mode": {
    "name": "ipython",
    "version": 3
   },
   "file_extension": ".py",
   "mimetype": "text/x-python",
   "name": "python",
   "nbconvert_exporter": "python",
   "pygments_lexer": "ipython3",
   "version": "3.10.12"
  }
 },
 "nbformat": 4,
 "nbformat_minor": 2
}
